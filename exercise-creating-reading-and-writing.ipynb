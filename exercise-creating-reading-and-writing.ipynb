{
 "cells": [
  {
   "cell_type": "markdown",
   "id": "6e986600",
   "metadata": {
    "papermill": {
     "duration": 0.00647,
     "end_time": "2023-05-05T15:50:48.956573",
     "exception": false,
     "start_time": "2023-05-05T15:50:48.950103",
     "status": "completed"
    },
    "tags": []
   },
   "source": [
    "**This notebook is an exercise in the [Pandas](https://www.kaggle.com/learn/pandas) course.  You can reference the tutorial at [this link](https://www.kaggle.com/residentmario/creating-reading-and-writing).**\n",
    "\n",
    "---\n"
   ]
  },
  {
   "cell_type": "markdown",
   "id": "67adfd40",
   "metadata": {
    "papermill": {
     "duration": 0.004734,
     "end_time": "2023-05-05T15:50:48.966573",
     "exception": false,
     "start_time": "2023-05-05T15:50:48.961839",
     "status": "completed"
    },
    "tags": []
   },
   "source": [
    "# Introduction\n",
    "\n",
    "The first step in most data analytics projects is reading the data file. In this exercise, you'll create Series and DataFrame objects, both by hand and by reading data files.\n",
    "\n",
    "Run the code cell below to load libraries you will need (including code to check your answers)."
   ]
  },
  {
   "cell_type": "code",
   "execution_count": 1,
   "id": "1aae0e0c",
   "metadata": {
    "execution": {
     "iopub.execute_input": "2023-05-05T15:50:48.978957Z",
     "iopub.status.busy": "2023-05-05T15:50:48.978359Z",
     "iopub.status.idle": "2023-05-05T15:50:50.856925Z",
     "shell.execute_reply": "2023-05-05T15:50:50.855439Z"
    },
    "papermill": {
     "duration": 1.887723,
     "end_time": "2023-05-05T15:50:50.859435",
     "exception": false,
     "start_time": "2023-05-05T15:50:48.971712",
     "status": "completed"
    },
    "tags": []
   },
   "outputs": [
    {
     "name": "stdout",
     "output_type": "stream",
     "text": [
      "Setup complete.\n"
     ]
    }
   ],
   "source": [
    "import pandas as pd\n",
    "pd.set_option('display.max_rows', 5)\n",
    "from learntools.core import binder; binder.bind(globals())\n",
    "from learntools.pandas.creating_reading_and_writing import *\n",
    "print(\"Setup complete.\")"
   ]
  },
  {
   "cell_type": "markdown",
   "id": "ae67991e",
   "metadata": {
    "papermill": {
     "duration": 0.004873,
     "end_time": "2023-05-05T15:50:50.869516",
     "exception": false,
     "start_time": "2023-05-05T15:50:50.864643",
     "status": "completed"
    },
    "tags": []
   },
   "source": [
    "# Exercises"
   ]
  },
  {
   "cell_type": "markdown",
   "id": "a7b6a2a7",
   "metadata": {
    "papermill": {
     "duration": 0.004753,
     "end_time": "2023-05-05T15:50:50.879289",
     "exception": false,
     "start_time": "2023-05-05T15:50:50.874536",
     "status": "completed"
    },
    "tags": []
   },
   "source": [
    "## 1.\n",
    "\n",
    "In the cell below, create a DataFrame `fruits` that looks like this:\n",
    "\n",
    "![](https://storage.googleapis.com/kaggle-media/learn/images/Ax3pp2A.png)"
   ]
  },
  {
   "cell_type": "code",
   "execution_count": 2,
   "id": "e51b1a72",
   "metadata": {
    "execution": {
     "iopub.execute_input": "2023-05-05T15:50:50.891523Z",
     "iopub.status.busy": "2023-05-05T15:50:50.891087Z",
     "iopub.status.idle": "2023-05-05T15:50:50.923011Z",
     "shell.execute_reply": "2023-05-05T15:50:50.921933Z"
    },
    "papermill": {
     "duration": 0.040756,
     "end_time": "2023-05-05T15:50:50.925204",
     "exception": false,
     "start_time": "2023-05-05T15:50:50.884448",
     "status": "completed"
    },
    "tags": []
   },
   "outputs": [
    {
     "data": {
      "application/javascript": [
       "parent.postMessage({\"jupyterEvent\": \"custom.exercise_interaction\", \"data\": {\"outcomeType\": 4, \"interactionType\": 1, \"questionType\": 2, \"questionId\": \"3_RecipeSeriesCreation\", \"learnToolsVersion\": \"0.3.4\", \"valueTowardsCompletion\": 0.0, \"failureMessage\": \"\", \"exceptionClass\": \"\", \"trace\": \"\"}}, \"*\")"
      ],
      "text/plain": [
       "<IPython.core.display.Javascript object>"
      ]
     },
     "metadata": {},
     "output_type": "display_data"
    },
    {
     "data": {
      "text/markdown": [
       "<span style=\"color:#ccaa33\">Check:</span> When you've updated the starter code, `check()` will tell you whether your code is correct. Remember, you must create the following variable: `ingredients`"
      ],
      "text/plain": [
       "Check: When you've updated the starter code, `check()` will tell you whether your code is correct. Remember, you must create the following variable: `ingredients`"
      ]
     },
     "metadata": {},
     "output_type": "display_data"
    },
    {
     "data": {
      "text/html": [
       "<div>\n",
       "<style scoped>\n",
       "    .dataframe tbody tr th:only-of-type {\n",
       "        vertical-align: middle;\n",
       "    }\n",
       "\n",
       "    .dataframe tbody tr th {\n",
       "        vertical-align: top;\n",
       "    }\n",
       "\n",
       "    .dataframe thead th {\n",
       "        text-align: right;\n",
       "    }\n",
       "</style>\n",
       "<table border=\"1\" class=\"dataframe\">\n",
       "  <thead>\n",
       "    <tr style=\"text-align: right;\">\n",
       "      <th></th>\n",
       "      <th>Apples</th>\n",
       "      <th>Bananas</th>\n",
       "    </tr>\n",
       "  </thead>\n",
       "  <tbody>\n",
       "    <tr>\n",
       "      <th>0</th>\n",
       "      <td>30</td>\n",
       "      <td>21</td>\n",
       "    </tr>\n",
       "  </tbody>\n",
       "</table>\n",
       "</div>"
      ],
      "text/plain": [
       "   Apples  Bananas\n",
       "0      30       21"
      ]
     },
     "execution_count": 2,
     "metadata": {},
     "output_type": "execute_result"
    }
   ],
   "source": [
    "# Your code goes here. Create a dataframe matching the above diagram and assign it to the variable fruits.\n",
    "import pandas as pd\n",
    "fruits = pd.DataFrame(data={\"Apples\" :[30] , \"Bananas\" : [21]})\n",
    "\n",
    "# Check your answer\n",
    "q3.check()\n",
    "fruits"
   ]
  },
  {
   "cell_type": "markdown",
   "id": "234cc4fc",
   "metadata": {
    "papermill": {
     "duration": 0.005608,
     "end_time": "2023-05-05T15:50:50.936374",
     "exception": false,
     "start_time": "2023-05-05T15:50:50.930766",
     "status": "completed"
    },
    "tags": []
   },
   "source": []
  },
  {
   "cell_type": "code",
   "execution_count": 3,
   "id": "c74dd5d0",
   "metadata": {
    "execution": {
     "iopub.execute_input": "2023-05-05T15:50:50.949525Z",
     "iopub.status.busy": "2023-05-05T15:50:50.949066Z",
     "iopub.status.idle": "2023-05-05T15:50:50.954171Z",
     "shell.execute_reply": "2023-05-05T15:50:50.953087Z"
    },
    "papermill": {
     "duration": 0.01437,
     "end_time": "2023-05-05T15:50:50.956246",
     "exception": false,
     "start_time": "2023-05-05T15:50:50.941876",
     "status": "completed"
    },
    "tags": []
   },
   "outputs": [],
   "source": [
    "#q1.hint()\n",
    "#q1.solution()"
   ]
  },
  {
   "cell_type": "markdown",
   "id": "60d3920e",
   "metadata": {
    "papermill": {
     "duration": 0.005171,
     "end_time": "2023-05-05T15:50:50.967097",
     "exception": false,
     "start_time": "2023-05-05T15:50:50.961926",
     "status": "completed"
    },
    "tags": []
   },
   "source": [
    "## 2.\n",
    "\n",
    "Create a dataframe `fruit_sales` that matches the diagram below:\n",
    "\n",
    "![](https://storage.googleapis.com/kaggle-media/learn/images/CHPn7ZF.png)"
   ]
  },
  {
   "cell_type": "code",
   "execution_count": 4,
   "id": "4525cf23",
   "metadata": {
    "execution": {
     "iopub.execute_input": "2023-05-05T15:50:50.980763Z",
     "iopub.status.busy": "2023-05-05T15:50:50.979438Z",
     "iopub.status.idle": "2023-05-05T15:50:50.995736Z",
     "shell.execute_reply": "2023-05-05T15:50:50.994588Z"
    },
    "papermill": {
     "duration": 0.025449,
     "end_time": "2023-05-05T15:50:50.997881",
     "exception": false,
     "start_time": "2023-05-05T15:50:50.972432",
     "status": "completed"
    },
    "tags": []
   },
   "outputs": [
    {
     "data": {
      "application/javascript": [
       "parent.postMessage({\"jupyterEvent\": \"custom.exercise_interaction\", \"data\": {\"outcomeType\": 4, \"interactionType\": 1, \"questionType\": 2, \"questionId\": \"3_RecipeSeriesCreation\", \"learnToolsVersion\": \"0.3.4\", \"valueTowardsCompletion\": 0.0, \"failureMessage\": \"\", \"exceptionClass\": \"\", \"trace\": \"\"}}, \"*\")"
      ],
      "text/plain": [
       "<IPython.core.display.Javascript object>"
      ]
     },
     "metadata": {},
     "output_type": "display_data"
    },
    {
     "data": {
      "text/markdown": [
       "<span style=\"color:#ccaa33\">Check:</span> When you've updated the starter code, `check()` will tell you whether your code is correct. Remember, you must create the following variable: `ingredients`"
      ],
      "text/plain": [
       "Check: When you've updated the starter code, `check()` will tell you whether your code is correct. Remember, you must create the following variable: `ingredients`"
      ]
     },
     "metadata": {},
     "output_type": "display_data"
    },
    {
     "data": {
      "text/html": [
       "<div>\n",
       "<style scoped>\n",
       "    .dataframe tbody tr th:only-of-type {\n",
       "        vertical-align: middle;\n",
       "    }\n",
       "\n",
       "    .dataframe tbody tr th {\n",
       "        vertical-align: top;\n",
       "    }\n",
       "\n",
       "    .dataframe thead th {\n",
       "        text-align: right;\n",
       "    }\n",
       "</style>\n",
       "<table border=\"1\" class=\"dataframe\">\n",
       "  <thead>\n",
       "    <tr style=\"text-align: right;\">\n",
       "      <th></th>\n",
       "      <th>Apples</th>\n",
       "      <th>Bananas</th>\n",
       "    </tr>\n",
       "  </thead>\n",
       "  <tbody>\n",
       "    <tr>\n",
       "      <th>2017 Sales</th>\n",
       "      <td>35</td>\n",
       "      <td>21</td>\n",
       "    </tr>\n",
       "    <tr>\n",
       "      <th>2018 Sales</th>\n",
       "      <td>41</td>\n",
       "      <td>34</td>\n",
       "    </tr>\n",
       "  </tbody>\n",
       "</table>\n",
       "</div>"
      ],
      "text/plain": [
       "            Apples  Bananas\n",
       "2017 Sales      35       21\n",
       "2018 Sales      41       34"
      ]
     },
     "execution_count": 4,
     "metadata": {},
     "output_type": "execute_result"
    }
   ],
   "source": [
    "# Your code goes here. Create a dataframe matching the above diagram and assign it to the variable fruit_sales.\n",
    "import pandas as pd\n",
    "fruit_sales = pd.DataFrame(data={\"Apples\" : [35,41] , \"Bananas\" : [21,34]},index=[\"2017 Sales\" , \"2018 Sales\"])\n",
    "\n",
    "# Check your answer\n",
    "q3.check()\n",
    "fruit_sales"
   ]
  },
  {
   "cell_type": "code",
   "execution_count": 5,
   "id": "b36d79b9",
   "metadata": {
    "execution": {
     "iopub.execute_input": "2023-05-05T15:50:51.011785Z",
     "iopub.status.busy": "2023-05-05T15:50:51.010906Z",
     "iopub.status.idle": "2023-05-05T15:50:51.015764Z",
     "shell.execute_reply": "2023-05-05T15:50:51.014712Z"
    },
    "papermill": {
     "duration": 0.014126,
     "end_time": "2023-05-05T15:50:51.017910",
     "exception": false,
     "start_time": "2023-05-05T15:50:51.003784",
     "status": "completed"
    },
    "tags": []
   },
   "outputs": [],
   "source": [
    "#q2.hint()\n",
    "#q2.solution()"
   ]
  },
  {
   "cell_type": "markdown",
   "id": "903910fe",
   "metadata": {
    "papermill": {
     "duration": 0.0059,
     "end_time": "2023-05-05T15:50:51.029986",
     "exception": false,
     "start_time": "2023-05-05T15:50:51.024086",
     "status": "completed"
    },
    "tags": []
   },
   "source": [
    "## 3.\n",
    "\n",
    "Create a variable `ingredients` with a Series that looks like:\n",
    "\n",
    "```\n",
    "Flour     4 cups\n",
    "Milk       1 cup\n",
    "Eggs     2 large\n",
    "Spam       1 can\n",
    "Name: Dinner, dtype: object\n",
    "```"
   ]
  },
  {
   "cell_type": "code",
   "execution_count": 6,
   "id": "0fd78fd9",
   "metadata": {
    "execution": {
     "iopub.execute_input": "2023-05-05T15:50:51.043999Z",
     "iopub.status.busy": "2023-05-05T15:50:51.043034Z",
     "iopub.status.idle": "2023-05-05T15:50:51.055662Z",
     "shell.execute_reply": "2023-05-05T15:50:51.054746Z"
    },
    "papermill": {
     "duration": 0.021824,
     "end_time": "2023-05-05T15:50:51.057704",
     "exception": false,
     "start_time": "2023-05-05T15:50:51.035880",
     "status": "completed"
    },
    "tags": []
   },
   "outputs": [
    {
     "data": {
      "application/javascript": [
       "parent.postMessage({\"jupyterEvent\": \"custom.exercise_interaction\", \"data\": {\"outcomeType\": 1, \"valueTowardsCompletion\": 0.16666666666666666, \"interactionType\": 1, \"questionType\": 2, \"questionId\": \"3_RecipeSeriesCreation\", \"learnToolsVersion\": \"0.3.4\", \"failureMessage\": \"\", \"exceptionClass\": \"\", \"trace\": \"\"}}, \"*\")"
      ],
      "text/plain": [
       "<IPython.core.display.Javascript object>"
      ]
     },
     "metadata": {},
     "output_type": "display_data"
    },
    {
     "data": {
      "text/markdown": [
       "<span style=\"color:#33cc33\">Correct</span>"
      ],
      "text/plain": [
       "Correct"
      ]
     },
     "metadata": {},
     "output_type": "display_data"
    },
    {
     "data": {
      "text/plain": [
       "Flour     4 cups\n",
       "Milk       1 cup\n",
       "Eggs     2 large\n",
       "Spam       1 can\n",
       "Name: Dinner, dtype: object"
      ]
     },
     "execution_count": 6,
     "metadata": {},
     "output_type": "execute_result"
    }
   ],
   "source": [
    "import pandas as pd\n",
    "ingredients = pd.Series( [\"4 cups\",\"1 cup\",\"2 large\",\"1 can\"],index=[\"Flour\" , \"Milk\",\"Eggs\",\"Spam\"] , name=\"Dinner\")\n",
    "\n",
    "# Check your answer\n",
    "q3.check()\n",
    "ingredients"
   ]
  },
  {
   "cell_type": "code",
   "execution_count": 7,
   "id": "8a2a80bb",
   "metadata": {
    "execution": {
     "iopub.execute_input": "2023-05-05T15:50:51.072432Z",
     "iopub.status.busy": "2023-05-05T15:50:51.071996Z",
     "iopub.status.idle": "2023-05-05T15:50:51.076203Z",
     "shell.execute_reply": "2023-05-05T15:50:51.075250Z"
    },
    "papermill": {
     "duration": 0.014377,
     "end_time": "2023-05-05T15:50:51.078550",
     "exception": false,
     "start_time": "2023-05-05T15:50:51.064173",
     "status": "completed"
    },
    "tags": []
   },
   "outputs": [],
   "source": [
    "#q3.hint()\n",
    "#q3.solution()"
   ]
  },
  {
   "cell_type": "markdown",
   "id": "a16fb351",
   "metadata": {
    "papermill": {
     "duration": 0.006013,
     "end_time": "2023-05-05T15:50:51.091082",
     "exception": false,
     "start_time": "2023-05-05T15:50:51.085069",
     "status": "completed"
    },
    "tags": []
   },
   "source": [
    "## 4.\n",
    "\n",
    "Read the following csv dataset of wine reviews into a DataFrame called `reviews`:\n",
    "\n",
    "![](https://storage.googleapis.com/kaggle-media/learn/images/74RCZtU.png)\n",
    "\n",
    "The filepath to the csv file is `../input/wine-reviews/winemag-data_first150k.csv`. The first few lines look like:\n",
    "\n",
    "```\n",
    ",country,description,designation,points,price,province,region_1,region_2,variety,winery\n",
    "0,US,\"This tremendous 100% varietal wine[...]\",Martha's Vineyard,96,235.0,California,Napa Valley,Napa,Cabernet Sauvignon,Heitz\n",
    "1,Spain,\"Ripe aromas of fig, blackberry and[...]\",Carodorum Selección Especial Reserva,96,110.0,Northern Spain,Toro,,Tinta de Toro,Bodega Carmen Rodríguez\n",
    "```"
   ]
  },
  {
   "cell_type": "code",
   "execution_count": 8,
   "id": "394749e2",
   "metadata": {
    "execution": {
     "iopub.execute_input": "2023-05-05T15:50:51.107083Z",
     "iopub.status.busy": "2023-05-05T15:50:51.106319Z",
     "iopub.status.idle": "2023-05-05T15:50:52.147820Z",
     "shell.execute_reply": "2023-05-05T15:50:52.146671Z"
    },
    "papermill": {
     "duration": 1.051632,
     "end_time": "2023-05-05T15:50:52.150062",
     "exception": false,
     "start_time": "2023-05-05T15:50:51.098430",
     "status": "completed"
    },
    "tags": []
   },
   "outputs": [
    {
     "name": "stdout",
     "output_type": "stream",
     "text": [
      "        Unnamed: 0 country                                        description  \\\n",
      "0                0      US  This tremendous 100% varietal wine hails from ...   \n",
      "1                1   Spain  Ripe aromas of fig, blackberry and cassis are ...   \n",
      "...            ...     ...                                                ...   \n",
      "150928      150928  France  A perfect salmon shade, with scents of peaches...   \n",
      "150929      150929   Italy  More Pinot Grigios should taste like this. A r...   \n",
      "\n",
      "                                 designation  points  price  \\\n",
      "0                          Martha's Vineyard      96  235.0   \n",
      "1       Carodorum Selección Especial Reserva      96  110.0   \n",
      "...                                      ...     ...    ...   \n",
      "150928                       Grand Brut Rosé      90   52.0   \n",
      "150929                                   NaN      90   15.0   \n",
      "\n",
      "                  province     region_1 region_2             variety  \\\n",
      "0               California  Napa Valley     Napa  Cabernet Sauvignon   \n",
      "1           Northern Spain         Toro      NaN       Tinta de Toro   \n",
      "...                    ...          ...      ...                 ...   \n",
      "150928           Champagne    Champagne      NaN     Champagne Blend   \n",
      "150929  Northeastern Italy   Alto Adige      NaN        Pinot Grigio   \n",
      "\n",
      "                         winery  \n",
      "0                         Heitz  \n",
      "1       Bodega Carmen Rodríguez  \n",
      "...                         ...  \n",
      "150928                   Gosset  \n",
      "150929            Alois Lageder  \n",
      "\n",
      "[150930 rows x 11 columns]\n"
     ]
    },
    {
     "data": {
      "application/javascript": [
       "parent.postMessage({\"jupyterEvent\": \"custom.exercise_interaction\", \"data\": {\"outcomeType\": 1, \"valueTowardsCompletion\": 0.16666666666666666, \"interactionType\": 1, \"questionType\": 2, \"questionId\": \"3_RecipeSeriesCreation\", \"learnToolsVersion\": \"0.3.4\", \"failureMessage\": \"\", \"exceptionClass\": \"\", \"trace\": \"\"}}, \"*\")"
      ],
      "text/plain": [
       "<IPython.core.display.Javascript object>"
      ]
     },
     "metadata": {},
     "output_type": "display_data"
    },
    {
     "data": {
      "text/markdown": [
       "<span style=\"color:#33cc33\">Correct</span>"
      ],
      "text/plain": [
       "Correct"
      ]
     },
     "metadata": {},
     "output_type": "display_data"
    }
   ],
   "source": [
    "import pandas as pd\n",
    "reviews = pd.read_csv('../input/wine-reviews/winemag-data_first150k.csv')\n",
    "print(reviews)\n",
    "q3.check()\n",
    "#q4.hint()\n",
    "#q4.solution()"
   ]
  },
  {
   "cell_type": "markdown",
   "id": "2d03ba9c",
   "metadata": {
    "papermill": {
     "duration": 0.006493,
     "end_time": "2023-05-05T15:50:52.163342",
     "exception": false,
     "start_time": "2023-05-05T15:50:52.156849",
     "status": "completed"
    },
    "tags": []
   },
   "source": [
    "## 5.\n",
    "\n",
    "Run the cell below to create and display a DataFrame called `animals`:"
   ]
  },
  {
   "cell_type": "code",
   "execution_count": 9,
   "id": "d672e062",
   "metadata": {
    "execution": {
     "iopub.execute_input": "2023-05-05T15:50:52.179189Z",
     "iopub.status.busy": "2023-05-05T15:50:52.178725Z",
     "iopub.status.idle": "2023-05-05T15:50:52.191947Z",
     "shell.execute_reply": "2023-05-05T15:50:52.190734Z"
    },
    "papermill": {
     "duration": 0.02391,
     "end_time": "2023-05-05T15:50:52.194130",
     "exception": false,
     "start_time": "2023-05-05T15:50:52.170220",
     "status": "completed"
    },
    "tags": []
   },
   "outputs": [
    {
     "name": "stdout",
     "output_type": "stream",
     "text": [
      "        Cows  Goats\n",
      "Year 1    12     22\n",
      "Year 2    20     19\n"
     ]
    },
    {
     "data": {
      "application/javascript": [
       "parent.postMessage({\"jupyterEvent\": \"custom.exercise_interaction\", \"data\": {\"outcomeType\": 2, \"failureMessage\": \"Expected file to exist with name `cows_and_goats.csv`\", \"interactionType\": 1, \"questionType\": 2, \"questionId\": \"5_SaveAnimalsCsv\", \"learnToolsVersion\": \"0.3.4\", \"valueTowardsCompletion\": 0.0, \"exceptionClass\": \"\", \"trace\": \"\"}}, \"*\")"
      ],
      "text/plain": [
       "<IPython.core.display.Javascript object>"
      ]
     },
     "metadata": {},
     "output_type": "display_data"
    },
    {
     "data": {
      "text/markdown": [
       "<span style=\"color:#cc3333\">Incorrect:</span> Expected file to exist with name `cows_and_goats.csv`"
      ],
      "text/plain": [
       "Incorrect: Expected file to exist with name `cows_and_goats.csv`"
      ]
     },
     "metadata": {},
     "output_type": "display_data"
    }
   ],
   "source": [
    "import pandas as pd\n",
    "animals = pd.DataFrame({'Cows': [12, 20], 'Goats': [22, 19]}, index=['Year 1', 'Year 2'])\n",
    "print(animals)\n",
    "q5.check()"
   ]
  },
  {
   "cell_type": "markdown",
   "id": "1cb8b571",
   "metadata": {
    "papermill": {
     "duration": 0.006712,
     "end_time": "2023-05-05T15:50:52.208103",
     "exception": false,
     "start_time": "2023-05-05T15:50:52.201391",
     "status": "completed"
    },
    "tags": []
   },
   "source": [
    "In the cell below, write code to save this DataFrame to disk as a csv file with the name `cows_and_goats.csv`."
   ]
  },
  {
   "cell_type": "code",
   "execution_count": 10,
   "id": "54d43608",
   "metadata": {
    "execution": {
     "iopub.execute_input": "2023-05-05T15:50:52.224984Z",
     "iopub.status.busy": "2023-05-05T15:50:52.223713Z",
     "iopub.status.idle": "2023-05-05T15:50:52.244098Z",
     "shell.execute_reply": "2023-05-05T15:50:52.243221Z"
    },
    "papermill": {
     "duration": 0.030745,
     "end_time": "2023-05-05T15:50:52.246042",
     "exception": false,
     "start_time": "2023-05-05T15:50:52.215297",
     "status": "completed"
    },
    "tags": []
   },
   "outputs": [
    {
     "name": "stdout",
     "output_type": "stream",
     "text": [
      "None\n"
     ]
    },
    {
     "data": {
      "application/javascript": [
       "parent.postMessage({\"jupyterEvent\": \"custom.exercise_interaction\", \"data\": {\"outcomeType\": 1, \"valueTowardsCompletion\": 0.16666666666666666, \"interactionType\": 1, \"questionType\": 2, \"questionId\": \"5_SaveAnimalsCsv\", \"learnToolsVersion\": \"0.3.4\", \"failureMessage\": \"\", \"exceptionClass\": \"\", \"trace\": \"\"}}, \"*\")"
      ],
      "text/plain": [
       "<IPython.core.display.Javascript object>"
      ]
     },
     "metadata": {},
     "output_type": "display_data"
    },
    {
     "data": {
      "text/markdown": [
       "<span style=\"color:#33cc33\">Correct</span>"
      ],
      "text/plain": [
       "Correct"
      ]
     },
     "metadata": {},
     "output_type": "display_data"
    }
   ],
   "source": [
    "import pandas as pd\n",
    "# Your code goes here\n",
    "animal = animals.to_csv('cows_and_goats.csv')\n",
    "print(animal)\n",
    "# Check your answer\n",
    "q5.check()"
   ]
  },
  {
   "cell_type": "code",
   "execution_count": 11,
   "id": "f8f91bf6",
   "metadata": {
    "execution": {
     "iopub.execute_input": "2023-05-05T15:50:52.263716Z",
     "iopub.status.busy": "2023-05-05T15:50:52.262278Z",
     "iopub.status.idle": "2023-05-05T15:50:52.280488Z",
     "shell.execute_reply": "2023-05-05T15:50:52.279324Z"
    },
    "papermill": {
     "duration": 0.029498,
     "end_time": "2023-05-05T15:50:52.282968",
     "exception": false,
     "start_time": "2023-05-05T15:50:52.253470",
     "status": "completed"
    },
    "tags": []
   },
   "outputs": [
    {
     "name": "stdout",
     "output_type": "stream",
     "text": [
      "        Cows  Goats\n",
      "Year 1    12     22\n",
      "Year 2    20     19\n"
     ]
    },
    {
     "data": {
      "application/javascript": [
       "parent.postMessage({\"jupyterEvent\": \"custom.exercise_interaction\", \"data\": {\"outcomeType\": 1, \"valueTowardsCompletion\": 0.16666666666666666, \"interactionType\": 1, \"questionType\": 2, \"questionId\": \"5_SaveAnimalsCsv\", \"learnToolsVersion\": \"0.3.4\", \"failureMessage\": \"\", \"exceptionClass\": \"\", \"trace\": \"\"}}, \"*\")"
      ],
      "text/plain": [
       "<IPython.core.display.Javascript object>"
      ]
     },
     "metadata": {},
     "output_type": "display_data"
    },
    {
     "data": {
      "text/markdown": [
       "<span style=\"color:#33cc33\">Correct</span>"
      ],
      "text/plain": [
       "Correct"
      ]
     },
     "metadata": {},
     "output_type": "display_data"
    }
   ],
   "source": [
    "import pandas as pd\n",
    "animals = pd.DataFrame({'Cows': [12, 20], 'Goats': [22, 19]}, index=['Year 1', 'Year 2'])\n",
    "print(animals)\n",
    "q5.check()"
   ]
  },
  {
   "cell_type": "code",
   "execution_count": 12,
   "id": "1b3837fa",
   "metadata": {
    "execution": {
     "iopub.execute_input": "2023-05-05T15:50:52.300763Z",
     "iopub.status.busy": "2023-05-05T15:50:52.299767Z",
     "iopub.status.idle": "2023-05-05T15:50:52.304914Z",
     "shell.execute_reply": "2023-05-05T15:50:52.303528Z"
    },
    "papermill": {
     "duration": 0.016622,
     "end_time": "2023-05-05T15:50:52.307248",
     "exception": false,
     "start_time": "2023-05-05T15:50:52.290626",
     "status": "completed"
    },
    "tags": []
   },
   "outputs": [],
   "source": [
    "#q5.hint()\n",
    "#q5.solution()"
   ]
  },
  {
   "cell_type": "markdown",
   "id": "bba82b6a",
   "metadata": {
    "papermill": {
     "duration": 0.007494,
     "end_time": "2023-05-05T15:50:52.322634",
     "exception": false,
     "start_time": "2023-05-05T15:50:52.315140",
     "status": "completed"
    },
    "tags": []
   },
   "source": [
    "# Keep going\n",
    "\n",
    "Move on to learn about **[indexing, selecting and assigning](https://www.kaggle.com/residentmario/indexing-selecting-assigning)**."
   ]
  },
  {
   "cell_type": "markdown",
   "id": "5ad8ba02",
   "metadata": {
    "papermill": {
     "duration": 0.008182,
     "end_time": "2023-05-05T15:50:52.338794",
     "exception": false,
     "start_time": "2023-05-05T15:50:52.330612",
     "status": "completed"
    },
    "tags": []
   },
   "source": [
    "---\n",
    "\n",
    "\n",
    "\n",
    "\n",
    "*Have questions or comments? Visit the [course discussion forum](https://www.kaggle.com/learn/pandas/discussion) to chat with other learners.*"
   ]
  }
 ],
 "metadata": {
  "kernelspec": {
   "display_name": "Python 3",
   "language": "python",
   "name": "python3"
  },
  "language_info": {
   "codemirror_mode": {
    "name": "ipython",
    "version": 3
   },
   "file_extension": ".py",
   "mimetype": "text/x-python",
   "name": "python",
   "nbconvert_exporter": "python",
   "pygments_lexer": "ipython3",
   "version": "3.10.10"
  },
  "papermill": {
   "default_parameters": {},
   "duration": 16.748015,
   "end_time": "2023-05-05T15:50:53.469618",
   "environment_variables": {},
   "exception": null,
   "input_path": "__notebook__.ipynb",
   "output_path": "__notebook__.ipynb",
   "parameters": {},
   "start_time": "2023-05-05T15:50:36.721603",
   "version": "2.4.0"
  }
 },
 "nbformat": 4,
 "nbformat_minor": 5
}
